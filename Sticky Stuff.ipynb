{
 "cells": [
  {
   "cell_type": "code",
   "execution_count": 45,
   "metadata": {},
   "outputs": [],
   "source": [
    "import numpy as np\n",
    "import matplotlib.pyplot as plt\n",
    "%matplotlib inline"
   ]
  },
  {
   "cell_type": "markdown",
   "metadata": {},
   "source": [
    "We choose to visualize data from the 2021 MLB season, looking at pitcher stats before an after an enforcement about rules referring to \"sticky stuff\" that would likely affect pitcher performance."
   ]
  },
  {
   "cell_type": "code",
   "execution_count": 55,
   "metadata": {},
   "outputs": [],
   "source": [
    "k9_before = np.loadtxt('/homes/jasonmeyer/CS240/visual_project/Data/k9_before.csv', delimiter = \",\", skiprows = 1, usecols = 8, converters = {8:lambda x : x[1:-1]})\n",
    "k9_before_labels = np.loadtxt('/homes/jasonmeyer/CS240/visual_project/Data/k9_before.csv', delimiter = \",\", dtype = \"str\", skiprows = 1, usecols = 0, converters = {0:lambda x : x[1:-1]})\n"
   ]
  },
  {
   "cell_type": "code",
   "execution_count": 56,
   "metadata": {},
   "outputs": [],
   "source": [
    "k9_after = np.loadtxt('/homes/jasonmeyer/CS240/visual_project/Data/k9_after.csv', delimiter = \",\", skiprows = 1, usecols = 8, converters = {8:lambda x : x[1:-1]})\n",
    "k9_after_labels = np.loadtxt('/homes/jasonmeyer/CS240/visual_project/Data/k9_after.csv', delimiter = \",\", dtype = \"str\", skiprows = 1, usecols = 0, converters = {0:lambda x : x[1:-1]})\n"
   ]
  },
  {
   "cell_type": "code",
   "execution_count": 57,
   "metadata": {},
   "outputs": [
    {
     "data": {
      "text/plain": [
       "array(['Jacob deGrom', 'Zack Wheeler', 'Gerrit Cole', 'Brandon Woodruff',\n",
       "       'Kevin Gausman', 'Trevor Rogers', 'Clayton Kershaw',\n",
       "       'Tyler Glasnow', 'Nathan Eovaldi', 'Taijuan Walker',\n",
       "       'Shane Bieber', 'Max Scherzer', 'Yu Darvish', 'Zach Eflin',\n",
       "       'Aaron Nola', 'Julio Urias', 'Lance Lynn', 'Freddy Peralta',\n",
       "       'Sean Manaea', 'Chris Bassitt', 'Joe Musgrove', 'Tyler Mahle',\n",
       "       'German Marquez', 'Sandy Alcantara', 'Kyle Gibson', 'Trevor Bauer',\n",
       "       'Pablo Lopez', 'Jordan Montgomery', 'Matthew Boyd',\n",
       "       'Austin Gomber', 'John Means', 'Walker Buehler', 'Jose Berrios',\n",
       "       'Ian Anderson', 'Zack Greinke', 'Anthony DeSclafani',\n",
       "       'Frankie Montas', 'Cole Irvin', 'Marcus Stroman', 'Mike Minor',\n",
       "       'Lucas Giolito', 'Garrett Richards', 'Steven Matz',\n",
       "       'Charlie Morton', 'Merrill Kelly', 'Hyun-Jin Ryu', 'Nick Pivetta',\n",
       "       'Antonio Senzatela', 'Aaron Civale', 'Dallas Keuchel',\n",
       "       'Luis Castillo', 'Robbie Ray', 'Adam Wainwright', 'Zach Davies',\n",
       "       'Casey Mize', 'Tyler Anderson', 'Ryan Yarbrough', 'Yusei Kikuchi',\n",
       "       'Brad Keller', 'Jordan Lyles', 'Patrick Corbin',\n",
       "       'Mike Foltynewicz', 'Kyle Hendricks'], dtype='<U18')"
      ]
     },
     "execution_count": 57,
     "metadata": {},
     "output_type": "execute_result"
    }
   ],
   "source": [
    "k9_before\n",
    "k9_before_labels"
   ]
  },
  {
   "cell_type": "code",
   "execution_count": 58,
   "metadata": {},
   "outputs": [
    {
     "name": "stdout",
     "output_type": "stream",
     "text": [
      "length before = 63\n",
      "length after = 40\n"
     ]
    }
   ],
   "source": [
    "print(\"length before = \" + str(len(k9_before)))\n",
    "print(\"length after = \" + str(len(k9_after)))"
   ]
  },
  {
   "cell_type": "code",
   "execution_count": 59,
   "metadata": {},
   "outputs": [
    {
     "name": "stdout",
     "output_type": "stream",
     "text": [
      "27\n"
     ]
    }
   ],
   "source": [
    "k9_before_filtered = k9_before[[name in k9_after_labels for name in k9_before_labels]]\n",
    "print(len(k9_before_filtered))\n",
    "k9_after_filtered = k9_after[[name in k9_before_labels for name in k9_after_labels]]"
   ]
  },
  {
   "cell_type": "markdown",
   "metadata": {},
   "source": [
    "We choose to visualize K/9 with each player as the x axis and their k/9 as the y."
   ]
  },
  {
   "cell_type": "code",
   "execution_count": 60,
   "metadata": {
    "scrolled": true
   },
   "outputs": [
    {
     "data": {
      "text/plain": [
       "<matplotlib.collections.PathCollection at 0x7f263ec8b550>"
      ]
     },
     "execution_count": 60,
     "metadata": {},
     "output_type": "execute_result"
    },
    {
     "data": {
      "image/png": "[encoded data removed]",
      "text/plain": [
       "<Figure size 432x288 with 1 Axes>"
      ]
     },
     "metadata": {
      "needs_background": "light"
     },
     "output_type": "display_data"
    }
   ],
   "source": [
    "fig,ax = plt.subplots()\n",
    "ax.scatter(k9_before_filtered, k9_after_filtered)"
   ]
  },
  {
   "cell_type": "code",
   "execution_count": null,
   "metadata": {},
   "outputs": [],
   "source": []
  }
 ],
 "metadata": {
  "kernelspec": {
   "display_name": "Python 3",
   "language": "python",
   "name": "python3"
  },
  "language_info": {
   "codemirror_mode": {
    "name": "ipython",
    "version": 3
   },
   "file_extension": ".py",
   "mimetype": "text/x-python",
   "name": "python",
   "nbconvert_exporter": "python",
   "pygments_lexer": "ipython3",
   "version": "3.6.8"
  }
 },
 "nbformat": 4,
 "nbformat_minor": 2
}
